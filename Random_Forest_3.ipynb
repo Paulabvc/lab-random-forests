{
 "cells": [
  {
   "cell_type": "code",
   "execution_count": 39,
   "id": "e708c9f7",
   "metadata": {},
   "outputs": [],
   "source": [
    "import pandas as pd\n",
    "import numpy as np\n",
    "\n",
    "from sklearn.model_selection import train_test_split\n",
    "from sklearn.tree import DecisionTreeRegressor\n",
    "\n",
    "from sklearn.preprocessing import OneHotEncoder\n",
    "from sklearn.ensemble import RandomForestClassifier\n",
    "\n",
    "from collections import Counter\n",
    "from imblearn.over_sampling import RandomOverSampler \n",
    "\n",
    "from sklearn.utils import resample\n",
    "from sklearn.preprocessing import StandardScaler\n",
    "\n",
    "from sklearn.metrics import confusion_matrix\n",
    "from sklearn.model_selection import GridSearchCV"
   ]
  },
  {
   "cell_type": "code",
   "execution_count": 40,
   "id": "e070462d",
   "metadata": {},
   "outputs": [],
   "source": [
    "##loading data"
   ]
  },
  {
   "cell_type": "code",
   "execution_count": 41,
   "id": "b66ebbd7",
   "metadata": {},
   "outputs": [],
   "source": [
    "numerical_df = pd.read_csv('files_for_lab/numerical.csv')\n",
    "categorical_df = pd.read_csv('files_for_lab/categorical.csv')\n",
    "target_df = pd.read_csv('files_for_lab/target.csv')"
   ]
  },
  {
   "cell_type": "code",
   "execution_count": 42,
   "id": "273974fa",
   "metadata": {},
   "outputs": [
    {
     "data": {
      "text/html": [
       "<div>\n",
       "<style scoped>\n",
       "    .dataframe tbody tr th:only-of-type {\n",
       "        vertical-align: middle;\n",
       "    }\n",
       "\n",
       "    .dataframe tbody tr th {\n",
       "        vertical-align: top;\n",
       "    }\n",
       "\n",
       "    .dataframe thead th {\n",
       "        text-align: right;\n",
       "    }\n",
       "</style>\n",
       "<table border=\"1\" class=\"dataframe\">\n",
       "  <thead>\n",
       "    <tr style=\"text-align: right;\">\n",
       "      <th></th>\n",
       "      <th>TCODE</th>\n",
       "      <th>AGE</th>\n",
       "      <th>INCOME</th>\n",
       "      <th>WEALTH1</th>\n",
       "      <th>HIT</th>\n",
       "      <th>MALEMILI</th>\n",
       "      <th>MALEVET</th>\n",
       "      <th>VIETVETS</th>\n",
       "      <th>WWIIVETS</th>\n",
       "      <th>LOCALGOV</th>\n",
       "      <th>...</th>\n",
       "      <th>MINRDATE_YR</th>\n",
       "      <th>MINRDATE_MM</th>\n",
       "      <th>MAXRDATE_YR</th>\n",
       "      <th>MAXRDATE_MM</th>\n",
       "      <th>LASTDATE_YR</th>\n",
       "      <th>LASTDATE_MM</th>\n",
       "      <th>FIRSTDATE_YR</th>\n",
       "      <th>FIRSTDATE_MM</th>\n",
       "      <th>TARGET_B</th>\n",
       "      <th>TARGET_D</th>\n",
       "    </tr>\n",
       "  </thead>\n",
       "  <tbody>\n",
       "    <tr>\n",
       "      <th>0</th>\n",
       "      <td>0</td>\n",
       "      <td>60.000000</td>\n",
       "      <td>5</td>\n",
       "      <td>9</td>\n",
       "      <td>0</td>\n",
       "      <td>0</td>\n",
       "      <td>39</td>\n",
       "      <td>34</td>\n",
       "      <td>18</td>\n",
       "      <td>10</td>\n",
       "      <td>...</td>\n",
       "      <td>92</td>\n",
       "      <td>8</td>\n",
       "      <td>94</td>\n",
       "      <td>2</td>\n",
       "      <td>95</td>\n",
       "      <td>12</td>\n",
       "      <td>89</td>\n",
       "      <td>11</td>\n",
       "      <td>0</td>\n",
       "      <td>0.0</td>\n",
       "    </tr>\n",
       "    <tr>\n",
       "      <th>1</th>\n",
       "      <td>1</td>\n",
       "      <td>46.000000</td>\n",
       "      <td>6</td>\n",
       "      <td>9</td>\n",
       "      <td>16</td>\n",
       "      <td>0</td>\n",
       "      <td>15</td>\n",
       "      <td>55</td>\n",
       "      <td>11</td>\n",
       "      <td>6</td>\n",
       "      <td>...</td>\n",
       "      <td>93</td>\n",
       "      <td>10</td>\n",
       "      <td>95</td>\n",
       "      <td>12</td>\n",
       "      <td>95</td>\n",
       "      <td>12</td>\n",
       "      <td>93</td>\n",
       "      <td>10</td>\n",
       "      <td>0</td>\n",
       "      <td>0.0</td>\n",
       "    </tr>\n",
       "    <tr>\n",
       "      <th>2</th>\n",
       "      <td>1</td>\n",
       "      <td>61.611649</td>\n",
       "      <td>3</td>\n",
       "      <td>1</td>\n",
       "      <td>2</td>\n",
       "      <td>0</td>\n",
       "      <td>20</td>\n",
       "      <td>29</td>\n",
       "      <td>33</td>\n",
       "      <td>6</td>\n",
       "      <td>...</td>\n",
       "      <td>91</td>\n",
       "      <td>11</td>\n",
       "      <td>92</td>\n",
       "      <td>7</td>\n",
       "      <td>95</td>\n",
       "      <td>12</td>\n",
       "      <td>90</td>\n",
       "      <td>1</td>\n",
       "      <td>0</td>\n",
       "      <td>0.0</td>\n",
       "    </tr>\n",
       "    <tr>\n",
       "      <th>3</th>\n",
       "      <td>0</td>\n",
       "      <td>70.000000</td>\n",
       "      <td>1</td>\n",
       "      <td>4</td>\n",
       "      <td>2</td>\n",
       "      <td>0</td>\n",
       "      <td>23</td>\n",
       "      <td>14</td>\n",
       "      <td>31</td>\n",
       "      <td>3</td>\n",
       "      <td>...</td>\n",
       "      <td>87</td>\n",
       "      <td>11</td>\n",
       "      <td>94</td>\n",
       "      <td>11</td>\n",
       "      <td>95</td>\n",
       "      <td>12</td>\n",
       "      <td>87</td>\n",
       "      <td>2</td>\n",
       "      <td>0</td>\n",
       "      <td>0.0</td>\n",
       "    </tr>\n",
       "  </tbody>\n",
       "</table>\n",
       "<p>4 rows × 339 columns</p>\n",
       "</div>"
      ],
      "text/plain": [
       "   TCODE        AGE  INCOME  WEALTH1  HIT  MALEMILI  MALEVET  VIETVETS  \\\n",
       "0      0  60.000000       5        9    0         0       39        34   \n",
       "1      1  46.000000       6        9   16         0       15        55   \n",
       "2      1  61.611649       3        1    2         0       20        29   \n",
       "3      0  70.000000       1        4    2         0       23        14   \n",
       "\n",
       "   WWIIVETS  LOCALGOV  ...  MINRDATE_YR  MINRDATE_MM  MAXRDATE_YR  \\\n",
       "0        18        10  ...           92            8           94   \n",
       "1        11         6  ...           93           10           95   \n",
       "2        33         6  ...           91           11           92   \n",
       "3        31         3  ...           87           11           94   \n",
       "\n",
       "   MAXRDATE_MM  LASTDATE_YR  LASTDATE_MM  FIRSTDATE_YR  FIRSTDATE_MM  \\\n",
       "0            2           95           12            89            11   \n",
       "1           12           95           12            93            10   \n",
       "2            7           95           12            90             1   \n",
       "3           11           95           12            87             2   \n",
       "\n",
       "   TARGET_B  TARGET_D  \n",
       "0         0       0.0  \n",
       "1         0       0.0  \n",
       "2         0       0.0  \n",
       "3         0       0.0  \n",
       "\n",
       "[4 rows x 339 columns]"
      ]
     },
     "execution_count": 42,
     "metadata": {},
     "output_type": "execute_result"
    }
   ],
   "source": [
    "df = pd.concat([numerical_df, categorical_df,target_df], axis=1)\n",
    "df.head(4)"
   ]
  },
  {
   "cell_type": "code",
   "execution_count": 43,
   "id": "98717021",
   "metadata": {},
   "outputs": [
    {
     "data": {
      "text/plain": [
       "0"
      ]
     },
     "execution_count": 43,
     "metadata": {},
     "output_type": "execute_result"
    }
   ],
   "source": [
    "df.isnull().sum().sum()"
   ]
  },
  {
   "cell_type": "code",
   "execution_count": 44,
   "id": "27367754",
   "metadata": {},
   "outputs": [],
   "source": [
    "y = df['TARGET_B']\n",
    "X = df.drop(['TARGET_B'], axis = 1)\n",
    "\n",
    "numericalX = X.select_dtypes(np.number)\n",
    "categoricalX = X.select_dtypes(object)\n",
    "\n",
    "from sklearn.preprocessing import OneHotEncoder\n",
    "encoder = OneHotEncoder(drop='first').fit(categoricalX)\n",
    "encoded_categorical = encoder.transform(categoricalX).toarray()\n",
    "encoded_categorical = pd.DataFrame(encoded_categorical)\n",
    "X = pd.concat([numericalX, encoded_categorical], axis = 1)\n",
    "\n",
    "from sklearn.model_selection import train_test_split\n",
    "X_train, X_test, y_train, y_test = train_test_split(X, y, test_size=0.2, random_state=0)"
   ]
  },
  {
   "cell_type": "code",
   "execution_count": 45,
   "id": "92cfd9f8",
   "metadata": {},
   "outputs": [
    {
     "data": {
      "text/plain": [
       "0    90569\n",
       "1     4843\n",
       "Name: TARGET_B, dtype: int64"
      ]
     },
     "execution_count": 45,
     "metadata": {},
     "output_type": "execute_result"
    }
   ],
   "source": [
    "df['TARGET_B'].value_counts()"
   ]
  },
  {
   "cell_type": "code",
   "execution_count": 46,
   "id": "330c54fd",
   "metadata": {},
   "outputs": [],
   "source": [
    "# for upsampling we need to temporarily concat X_train and y_train\n",
    "trainset = pd.concat([X_train, y_train], axis=1)\n",
    "\n",
    "from sklearn.utils import resample\n",
    "category_0 = trainset[trainset['TARGET_B']== 0 ]\n",
    "category_1 = trainset[trainset['TARGET_B']== 1 ]\n",
    "category_1 = resample(category_1,\n",
    "                    replace=True, \n",
    "                    n_samples = len(category_0),\n",
    "                    random_state=0)\n"
   ]
  },
  {
   "cell_type": "code",
   "execution_count": 47,
   "id": "c9cd169e",
   "metadata": {},
   "outputs": [
    {
     "data": {
      "text/plain": [
       "(72486, 356)"
      ]
     },
     "metadata": {},
     "output_type": "display_data"
    },
    {
     "data": {
      "text/plain": [
       "(72486, 356)"
      ]
     },
     "metadata": {},
     "output_type": "display_data"
    }
   ],
   "source": [
    "display(category_0.shape)\n",
    "display(category_1.shape)"
   ]
  },
  {
   "cell_type": "code",
   "execution_count": 48,
   "id": "7842de3a",
   "metadata": {},
   "outputs": [],
   "source": [
    "trainset_new = pd.concat([category_0, category_1], axis = 0)\n",
    "X_train = trainset_new.drop(['TARGET_B'], axis=1)\n",
    "y_train = trainset_new['TARGET_B']"
   ]
  },
  {
   "cell_type": "code",
   "execution_count": 49,
   "id": "eef04067",
   "metadata": {},
   "outputs": [],
   "source": [
    "X_train = pd.DataFrame(X_train)\n",
    "X_test = pd.DataFrame(X_test)\n",
    "\n"
   ]
  },
  {
   "cell_type": "code",
   "execution_count": 50,
   "id": "7bada3e6",
   "metadata": {},
   "outputs": [
    {
     "data": {
      "text/plain": [
       "0    72486\n",
       "1    72486\n",
       "Name: TARGET_B, dtype: int64"
      ]
     },
     "execution_count": 50,
     "metadata": {},
     "output_type": "execute_result"
    }
   ],
   "source": [
    "y_train.value_counts()"
   ]
  },
  {
   "cell_type": "code",
   "execution_count": 51,
   "id": "53132906",
   "metadata": {},
   "outputs": [
    {
     "data": {
      "text/plain": [
       "0    18083\n",
       "1     1000\n",
       "Name: TARGET_B, dtype: int64"
      ]
     },
     "execution_count": 51,
     "metadata": {},
     "output_type": "execute_result"
    }
   ],
   "source": [
    "y_test.value_counts()"
   ]
  },
  {
   "cell_type": "code",
   "execution_count": 53,
   "id": "50d7addf",
   "metadata": {},
   "outputs": [
    {
     "name": "stderr",
     "output_type": "stream",
     "text": [
      "C:\\Users\\pbevi\\anaconda3\\lib\\site-packages\\sklearn\\utils\\validation.py:1858: FutureWarning: Feature names only support names that are all strings. Got feature names with dtypes: ['int', 'str']. An error will be raised in 1.2.\n",
      "  warnings.warn(\n",
      "C:\\Users\\pbevi\\anaconda3\\lib\\site-packages\\sklearn\\utils\\validation.py:1858: FutureWarning: Feature names only support names that are all strings. Got feature names with dtypes: ['int', 'str']. An error will be raised in 1.2.\n",
      "  warnings.warn(\n"
     ]
    },
    {
     "name": "stdout",
     "output_type": "stream",
     "text": [
      "The Accuracy for the Random Forest in the TRAIN set is 0.97\n",
      "The Accuracy for the Random Forest in the TEST  set is 0.98\n"
     ]
    },
    {
     "name": "stderr",
     "output_type": "stream",
     "text": [
      "C:\\Users\\pbevi\\anaconda3\\lib\\site-packages\\sklearn\\utils\\validation.py:1858: FutureWarning: Feature names only support names that are all strings. Got feature names with dtypes: ['int', 'str']. An error will be raised in 1.2.\n",
      "  warnings.warn(\n",
      "C:\\Users\\pbevi\\anaconda3\\lib\\site-packages\\sklearn\\utils\\validation.py:1858: FutureWarning: Feature names only support names that are all strings. Got feature names with dtypes: ['int', 'str']. An error will be raised in 1.2.\n",
      "  warnings.warn(\n"
     ]
    },
    {
     "data": {
      "text/plain": [
       "0    18083\n",
       "1     1000\n",
       "Name: TARGET_B, dtype: int64"
      ]
     },
     "metadata": {},
     "output_type": "display_data"
    },
    {
     "data": {
      "text/plain": [
       "array([[17837,   246],\n",
       "       [   68,   932]], dtype=int64)"
      ]
     },
     "metadata": {},
     "output_type": "display_data"
    }
   ],
   "source": [
    "clf = RandomForestClassifier(max_depth=3,\n",
    "                             min_samples_split=10,\n",
    "                             min_samples_leaf =10,\n",
    "                             max_samples=0.5,\n",
    "                             random_state = 42)\n",
    "clf.fit(X_train, y_train)\n",
    "\n",
    "print(\"The Accuracy for the Random Forest in the TRAIN set is {:.2f}\".format(clf.score(X_train, y_train)))\n",
    "print(\"The Accuracy for the Random Forest in the TEST  set is {:.2f}\".format(clf.score(X_test, y_test)))\n",
    "\n",
    "y_pred = clf.predict(X_test)\n",
    "display(y_test.value_counts())\n",
    "display(confusion_matrix(y_test, y_pred))"
   ]
  },
  {
   "cell_type": "code",
   "execution_count": null,
   "id": "2758c31b",
   "metadata": {},
   "outputs": [],
   "source": [
    "# I tried multiple types this lab but this is wrong because the other one gave me 0.6, I don´t know what I am missing here."
   ]
  },
  {
   "cell_type": "code",
   "execution_count": null,
   "id": "e28aa4e3",
   "metadata": {},
   "outputs": [],
   "source": []
  },
  {
   "cell_type": "code",
   "execution_count": null,
   "id": "58b20403",
   "metadata": {},
   "outputs": [],
   "source": []
  }
 ],
 "metadata": {
  "kernelspec": {
   "display_name": "Python 3 (ipykernel)",
   "language": "python",
   "name": "python3"
  },
  "language_info": {
   "codemirror_mode": {
    "name": "ipython",
    "version": 3
   },
   "file_extension": ".py",
   "mimetype": "text/x-python",
   "name": "python",
   "nbconvert_exporter": "python",
   "pygments_lexer": "ipython3",
   "version": "3.9.12"
  }
 },
 "nbformat": 4,
 "nbformat_minor": 5
}
